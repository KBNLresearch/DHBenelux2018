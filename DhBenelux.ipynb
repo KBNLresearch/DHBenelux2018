{
 "cells": [
  {
   "cell_type": "markdown",
   "metadata": {},
   "source": [
    "# Koninklijke Bibliotheek\n",
    "\n",
    "## DhBenelux2018: Mining Delpher with a Jupyter Notebook\n",
    "\n",
    "\n",
    "\n"
   ]
  },
  {
   "cell_type": "markdown",
   "metadata": {},
   "source": [
    "# WhatWhyHow\n",
    "\n",
    "This is a simple introduction into using Python to work with plain text and XML data,\n",
    "we're not focussing on Panda's or Numpy or any external library in this introduction cource.\n",
    "\n",
    "Some code blocks contain bonus questions, like so:\n",
    "\n",
    " ?\n",
    "  What if blah bla?\n",
    "\n",
    "Feel free to answer those questions during the workshop.\n",
    "\n",
    "Some of the rationale behind this workshop:\n",
    "\n",
    "https://www.theatlantic.com/science/archive/2018/04/the-scientific-paper-is-obsolete/556676/\n",
    "\n",
    "\n",
    "If you want to run this notebook locally make sure you can install external libs. (using pip or easy_install), if you encounter output like this: \"ImportError: No module named matplotlib.pyplot\" you should install it by executing the following:\n",
    "\n",
    "pip install matplotlib.  (Where matplotlib could be any external lib you are missing.) \n",
    "\n",
    "Tested with python3\n",
    "\n",
    "\n",
    "Workshop written by Willem Jan Faber, feel free to redistribute!"
   ]
  },
  {
   "cell_type": "markdown",
   "metadata": {},
   "source": [
    "<h1>Jupyter Notebook Tips</h1>\n",
    "<ul>\n",
    "<li>New cells are created with the <b>Plus</b> button in the toolbar. When not editing, this can be done by pressing ‘b’ on your keyboard.</li>\n",
    "<li>New cells are “code” cells by default, but can be changed to “Markdown” (a type of text input) in a dropdown menu on the toolbar. In edit mode, you can paste in code from this lesson or type it yourself.</li>\n",
    "<li>Switching a cell to edit mode is done by pressing Enter.</li>\n",
    "<li>Running a cell is done by clicking Play in the toolbar, or with Shift + Enter.</li>\n",
    "<li>We use two types of cells: Markdown (for text) and Code (for code blocks)\n"
   ]
  },
  {
   "cell_type": "markdown",
   "metadata": {},
   "source": [
    "# Introduction data-types\n",
    "\n",
    "A data-type defines the operation you can do on data, and data defines the data-type.\n",
    "\n",
    "Overview of most important types:\n",
    "\n",
    "int, str, list, dict, boolean, set. (They don't mix)"
   ]
  },
  {
   "cell_type": "code",
   "execution_count": null,
   "metadata": {},
   "outputs": [],
   "source": [
    "type(1)"
   ]
  },
  {
   "cell_type": "code",
   "execution_count": null,
   "metadata": {},
   "outputs": [],
   "source": [
    "type(z)"
   ]
  },
  {
   "cell_type": "code",
   "execution_count": null,
   "metadata": {},
   "outputs": [],
   "source": [
    "type(\"z\")"
   ]
  },
  {
   "cell_type": "markdown",
   "metadata": {},
   "source": [
    "#### Mixing types is not allowed...\n",
    "\n",
    "\n",
    "#### For what is monkey + 1?\n"
   ]
  },
  {
   "cell_type": "code",
   "execution_count": null,
   "metadata": {},
   "outputs": [],
   "source": [
    "1 + \"monkey\""
   ]
  },
  {
   "cell_type": "markdown",
   "metadata": {},
   "source": [
    "#### Morphing from one type to other is called 'casting':\n"
   ]
  },
  {
   "cell_type": "code",
   "execution_count": null,
   "metadata": {},
   "outputs": [],
   "source": [
    "str(1) + \"monkey\""
   ]
  },
  {
   "cell_type": "markdown",
   "metadata": {},
   "source": [
    "#### dir() and help() are usefull functions to activly explore Python, you don't have to understand all."
   ]
  },
  {
   "cell_type": "code",
   "execution_count": null,
   "metadata": {},
   "outputs": [],
   "source": [
    "help(type(\"a\"))"
   ]
  },
  {
   "cell_type": "markdown",
   "metadata": {},
   "source": [
    "### The boolean type"
   ]
  },
  {
   "cell_type": "code",
   "execution_count": null,
   "metadata": {},
   "outputs": [],
   "source": [
    "True == True # Built into the language as True and False, these words represent 1 , 0 state."
   ]
  },
  {
   "cell_type": "code",
   "execution_count": null,
   "metadata": {},
   "outputs": [],
   "source": [
    "if True: print(\"ok\")"
   ]
  },
  {
   "cell_type": "code",
   "execution_count": null,
   "metadata": {},
   "outputs": [],
   "source": [
    "if False: print(\"ok\")"
   ]
  },
  {
   "cell_type": "code",
   "execution_count": null,
   "metadata": {},
   "outputs": [],
   "source": [
    "True or False"
   ]
  },
  {
   "cell_type": "markdown",
   "metadata": {},
   "source": [
    "### The dictonary type"
   ]
  },
  {
   "cell_type": "code",
   "execution_count": null,
   "metadata": {},
   "outputs": [],
   "source": [
    "a = {}\n",
    "print(type(a))"
   ]
  },
  {
   "cell_type": "code",
   "execution_count": null,
   "metadata": {},
   "outputs": [],
   "source": [
    "print(dir(type(a)))"
   ]
  },
  {
   "cell_type": "code",
   "execution_count": null,
   "metadata": {},
   "outputs": [],
   "source": [
    "a = {\"fruit\": 1,\n",
    "     \"groente\" : 2,\n",
    "     \"vlees\" : 3}\n",
    "print(a[\"vlees\"])"
   ]
  },
  {
   "cell_type": "code",
   "execution_count": null,
   "metadata": {},
   "outputs": [],
   "source": [
    "a.get(\"vlees\")"
   ]
  },
  {
   "cell_type": "code",
   "execution_count": null,
   "metadata": {},
   "outputs": [],
   "source": [
    "for i in a:\n",
    "    print(i)"
   ]
  },
  {
   "cell_type": "code",
   "execution_count": null,
   "metadata": {},
   "outputs": [],
   "source": [
    "for i in a:\n",
    "    print(i, a.get(i))"
   ]
  },
  {
   "cell_type": "markdown",
   "metadata": {},
   "source": [
    "### The list type"
   ]
  },
  {
   "cell_type": "code",
   "execution_count": null,
   "metadata": {},
   "outputs": [],
   "source": [
    "b = []\n",
    "print(type(b))"
   ]
  },
  {
   "cell_type": "code",
   "execution_count": null,
   "metadata": {},
   "outputs": [],
   "source": [
    "print(dir(type(b)))"
   ]
  },
  {
   "cell_type": "code",
   "execution_count": null,
   "metadata": {},
   "outputs": [],
   "source": [
    "b.append(1)\n",
    "b.append(2)\n",
    "b.append(9)\n",
    "b.append(-1)\n",
    "b.append(2)\n",
    "print(b)"
   ]
  },
  {
   "cell_type": "markdown",
   "metadata": {},
   "source": [
    "List's can be used to sort."
   ]
  },
  {
   "cell_type": "code",
   "execution_count": null,
   "metadata": {},
   "outputs": [],
   "source": [
    "print(sorted(b)) # Sort on printing, don't touch the list.\n",
    "b.sort() # Sort the list in memory.\n",
    "print(b)"
   ]
  },
  {
   "cell_type": "markdown",
   "metadata": {},
   "source": [
    "Addressing the list using position of element."
   ]
  },
  {
   "cell_type": "code",
   "execution_count": null,
   "metadata": {},
   "outputs": [],
   "source": [
    "print(b[0]) # First element\n",
    "print(b[-1]) # Print the last element"
   ]
  },
  {
   "cell_type": "markdown",
   "metadata": {},
   "source": [
    "Using this type of adressing to select a range."
   ]
  },
  {
   "cell_type": "code",
   "execution_count": null,
   "metadata": {},
   "outputs": [],
   "source": [
    "print(b[0:2]) # Everything from the first element till the 2nd."
   ]
  },
  {
   "cell_type": "markdown",
   "metadata": {},
   "source": [
    "Looping over a list."
   ]
  },
  {
   "cell_type": "code",
   "execution_count": null,
   "metadata": {},
   "outputs": [],
   "source": [
    "for i in b: # Simple for loop\n",
    "    print(i)\n",
    "    \n",
    "    #\n",
    "    # ?\n",
    "    # Try to loop over a range of the list, without using a extra line of code."
   ]
  },
  {
   "cell_type": "markdown",
   "metadata": {},
   "source": [
    "List's are often found nested, with a filter expression."
   ]
  },
  {
   "cell_type": "code",
   "execution_count": null,
   "metadata": {},
   "outputs": [],
   "source": [
    "print([i for i in b if i > 0])"
   ]
  },
  {
   "cell_type": "markdown",
   "metadata": {},
   "source": [
    "Query a list"
   ]
  },
  {
   "cell_type": "code",
   "execution_count": null,
   "metadata": {},
   "outputs": [],
   "source": [
    "print(10 in b)"
   ]
  },
  {
   "cell_type": "markdown",
   "metadata": {},
   "source": [
    "### The set type"
   ]
  },
  {
   "cell_type": "code",
   "execution_count": null,
   "metadata": {},
   "outputs": [],
   "source": [
    "a = set([1,1,2,2,2,2,2,3,4]) # A list of numbers is casted into a set.\n",
    "print(a) # Set's only contain unique items."
   ]
  },
  {
   "cell_type": "code",
   "execution_count": null,
   "metadata": {},
   "outputs": [],
   "source": [
    "print(dir(type(a)))"
   ]
  },
  {
   "cell_type": "code",
   "execution_count": null,
   "metadata": {},
   "outputs": [],
   "source": [
    "b = set([2,3,5,9])\n",
    "a.union(b)"
   ]
  },
  {
   "cell_type": "code",
   "execution_count": null,
   "metadata": {},
   "outputs": [],
   "source": [
    "a.intersection(b)"
   ]
  },
  {
   "cell_type": "code",
   "execution_count": null,
   "metadata": {},
   "outputs": [],
   "source": [
    "#\n",
    "# ?\n",
    "# Now you understand the basic types, can you combine and work with them?\n",
    "# For example:\n",
    "\n",
    "# a = [{'gluten' : 'vrij', 'verkocht' : False}, {'water' : 'stroom', 'verkocht' : True}]\n",
    "\n"
   ]
  },
  {
   "cell_type": "markdown",
   "metadata": {},
   "source": [
    "### Operations on data"
   ]
  },
  {
   "cell_type": "code",
   "execution_count": null,
   "metadata": {},
   "outputs": [],
   "source": [
    "1 + 1 # Adding"
   ]
  },
  {
   "cell_type": "code",
   "execution_count": null,
   "metadata": {},
   "outputs": [],
   "source": [
    "a = 1 + 1 # Using variable names\n",
    "b = a + 1\n",
    "b"
   ]
  },
  {
   "cell_type": "code",
   "execution_count": null,
   "metadata": {},
   "outputs": [],
   "source": [
    "10 / 2 # Divide"
   ]
  },
  {
   "cell_type": "code",
   "execution_count": null,
   "metadata": {},
   "outputs": [],
   "source": [
    "2 * 8 # Multiply"
   ]
  },
  {
   "cell_type": "code",
   "execution_count": null,
   "metadata": {},
   "outputs": [],
   "source": [
    "len(\"Dit is een str\")"
   ]
  },
  {
   "cell_type": "code",
   "execution_count": null,
   "metadata": {},
   "outputs": [],
   "source": [
    "len([1,2,3])"
   ]
  },
  {
   "cell_type": "code",
   "execution_count": null,
   "metadata": {},
   "outputs": [],
   "source": [
    "\"HOOFDLETTER\".isupper()"
   ]
  },
  {
   "cell_type": "code",
   "execution_count": null,
   "metadata": {},
   "outputs": [],
   "source": [
    "\"pindakaas\".endswith(\"kaas\")"
   ]
  },
  {
   "cell_type": "code",
   "execution_count": null,
   "metadata": {},
   "outputs": [],
   "source": [
    "\"A\".isalpha() # Alphanumeric?"
   ]
  },
  {
   "cell_type": "code",
   "execution_count": null,
   "metadata": {},
   "outputs": [],
   "source": [
    "\"$sdew#@gfdsfgd$#@\".isalpha()"
   ]
  },
  {
   "cell_type": "code",
   "execution_count": null,
   "metadata": {},
   "outputs": [],
   "source": [
    "a = \"b\" # Comparing types of data is seen often.\n",
    "b = \"b\"\n",
    "type(a) == type(b)"
   ]
  },
  {
   "cell_type": "code",
   "execution_count": null,
   "metadata": {},
   "outputs": [],
   "source": [
    "type([]) == type(\"\")"
   ]
  },
  {
   "cell_type": "markdown",
   "metadata": {},
   "source": [
    "[Now let's apply](https://www.youtube.com/watch?v=dQw4w9WgXcQ)"
   ]
  },
  {
   "cell_type": "markdown",
   "metadata": {},
   "source": [
    "# Working with data from disk\n",
    "https://resolver.kb.nl/resolve?urn=DATA:kranten:kranten_pd_171x.zip\n",
    "\n",
    "This file was downloaded and unzipped in the directory data, let's explore.\n"
   ]
  },
  {
   "cell_type": "code",
   "execution_count": null,
   "metadata": {},
   "outputs": [],
   "source": [
    "import os # External library to interact with operating system\n",
    "\n",
    "os.listdir('data')"
   ]
  },
  {
   "cell_type": "code",
   "execution_count": null,
   "metadata": {},
   "outputs": [],
   "source": [
    "os.listdir('data/1712')"
   ]
  },
  {
   "cell_type": "code",
   "execution_count": 57,
   "metadata": {},
   "outputs": [
    {
     "name": "stdout",
     "output_type": "stream",
     "text": [
      "DDD_010725137_0005_articletext.xml\n",
      "DDD_010725137_0001_articletext.xml\n",
      "DDD_010725137_0002_articletext.xml\n",
      "DDD_010725137_0004_articletext.xml\n",
      "DDD_010725137_0003_articletext.xml\n",
      "DDD_010725137_0006_articletext.xml\n"
     ]
    }
   ],
   "source": [
    "for file in os.listdir('data/1712/01/01/DDD_ddd_010725137_mpeg21'):\n",
    "    if file.endswith('_articletext.xml'):\n",
    "        print(file)"
   ]
  },
  {
   "cell_type": "markdown",
   "metadata": {},
   "source": [
    "Hardcore Delpher users will recognize the following: DDD_ddd_010725137_mpeg21,\n",
    "this is because this is the unique identifier of the newspaper.\n",
    "\n",
    "To get OCR straight from the KB enviorment, rewite it to an URL like so:\n",
    "resolver.kb.nl/resolve?urn=ddd:010725137:mpeg21:a0001:ocr (This is the first OCR file)."
   ]
  },
  {
   "cell_type": "markdown",
   "metadata": {},
   "source": [
    "## Load OCR text into memory for exploration."
   ]
  },
  {
   "cell_type": "code",
   "execution_count": null,
   "metadata": {},
   "outputs": [],
   "source": [
    "article_text = [] # Initialize empy list for article text.\n",
    "PATH = 'data/1712/01/01/DDD_ddd_010725137_mpeg21'\n",
    "\n",
    "for file in os.listdir(PATH):\n",
    "    if file.endswith('_articletext.xml'):\n",
    "        with open(PATH + os.sep + file, 'r') as fh:\n",
    "            article_text.append(fh.read())\n",
    "\n",
    "print(article_text[0])"
   ]
  },
  {
   "cell_type": "markdown",
   "metadata": {},
   "source": [
    "## Removing XML tags for the text."
   ]
  },
  {
   "cell_type": "code",
   "execution_count": null,
   "metadata": {},
   "outputs": [],
   "source": [
    "for count, article in enumerate(article_text):\n",
    "    clean_article = article.replace('<?xml version=\"1.0\" encoding=\"UTF-8\"?>', '')\n",
    "    clean_article = clean_article.replace('<text>', '')\n",
    "    clean_article = clean_article.replace('</text>',  '')\n",
    "    clean_article = clean_article.replace('<p>',  '')\n",
    "    clean_article = clean_article.replace('</p>',  '')\n",
    "    clean_article = clean_article.replace('</title>',  '')\n",
    "    clean_article = clean_article.replace('<title>',  '')\n",
    "    article_text[count] = clean_article\n",
    "    \n",
    "    #\n",
    "    # ? \n",
    "    # I did not fix the XML & sign, can you fix it for me?\n",
    "    \n",
    "print(article_text[0])"
   ]
  },
  {
   "cell_type": "markdown",
   "metadata": {},
   "source": [
    "## Counting the freq of words, and apply fiter"
   ]
  },
  {
   "cell_type": "code",
   "execution_count": null,
   "metadata": {},
   "outputs": [],
   "source": [
    "word_list = {}\n",
    "for word in article_text[0].split(): # split() takes in a string and returns a list based upon the number of whitespaces.\n",
    "    if not word in word_list:\n",
    "        word_list[word] = 1\n",
    "    else:\n",
    "        word_list[word] += 1\n",
    "#\n",
    "# ?\n",
    "# The split works but is a bit of a cheap solution, for words ending in . or , won't be taken into account.\n",
    "# How could we fix this?\n",
    "        \n",
    "\n",
    "for word in word_list:\n",
    "    if word > 2 and word.isalpha() and len(word)> 4:\n",
    "        print(word, word_list[word])\n",
    "        \n",
    "#\n",
    "# ?\n",
    "# The if expression could also be written as a nested list, how?"
   ]
  },
  {
   "cell_type": "markdown",
   "metadata": {},
   "source": [
    "Scaling up by analyzing all documents in mem."
   ]
  },
  {
   "cell_type": "code",
   "execution_count": null,
   "metadata": {},
   "outputs": [],
   "source": [
    "word_list = {}\n",
    "for count, text in enumerate(article_text):    \n",
    "    for word in article_text[count].split():\n",
    "        word = word.lower()\n",
    "        if not word in word_list:\n",
    "            word_list[word] = 1\n",
    "        else:\n",
    "            word_list[word] += 1\n",
    "\n",
    "\n",
    "words_of_interest = []\n",
    "for word in word_list:\n",
    "    if word_list[word] > 4 and word.isalpha() and len(word)> 4:\n",
    "        print(word, word_list[word])\n",
    "        words_of_interest.append([word, word_list[word]])"
   ]
  },
  {
   "cell_type": "markdown",
   "metadata": {},
   "source": [
    "## Vizualizing using mathplotlib\n",
    "\n",
    "https://matplotlib.org/1.5.0/gallery.html\n"
   ]
  },
  {
   "cell_type": "code",
   "execution_count": null,
   "metadata": {},
   "outputs": [],
   "source": [
    "import matplotlib.pyplot as plt\n",
    "import matplotlib.dates as dates\n",
    "import numpy as np\n",
    "%matplotlib inline"
   ]
  },
  {
   "cell_type": "code",
   "execution_count": null,
   "metadata": {},
   "outputs": [],
   "source": [
    "words = []\n",
    "freq = []\n",
    "\n",
    "for word, count in words_of_interest:\n",
    "    words.append(word)\n",
    "    freq.append(count)\n",
    "    \n",
    "y_pos = np.arange(len(words))\n",
    "\n",
    "error = np.random.rand(len(words))\n",
    "print(error)\n",
    "plt.barh(y_pos, freq, align='center', alpha=0.4)\n",
    "plt.yticks(y_pos, words)\n",
    "plt.xlabel('Freq')\n",
    "plt.title('Simple word count graph')\n",
    "\n",
    "plt.show()"
   ]
  },
  {
   "cell_type": "markdown",
   "metadata": {},
   "source": [
    "## Declaring functions, enables layers of complexity"
   ]
  },
  {
   "cell_type": "code",
   "execution_count": null,
   "metadata": {},
   "outputs": [],
   "source": [
    "def traverse_dir(path): # Declaration of function with one parameter, returning 1 parameter.\n",
    "    files_avail = []\n",
    "    for files in os.walk(path):\n",
    "        for list_file in files:\n",
    "            if type(list_file) == type([]):\n",
    "                for f in list_file:\n",
    "                    if f.endswith('_articletext.xml'):\n",
    "                        files_avail.append(files[0] + os.sep + f)\n",
    "    return files_avail\n",
    "files_avail = traverse_dir('data/')\n",
    "print(len(files_avail))\n",
    "\n",
    "def clean_text(text):\n",
    "    clean_article = text.replace('<?xml version=\"1.0\" encoding=\"UTF-8\"?>', '')\n",
    "    clean_article = clean_article.replace('<text>', '')\n",
    "    clean_article = clean_article.replace('</text>',  '')\n",
    "    clean_article = clean_article.replace('<p>',  '')\n",
    "    clean_article = clean_article.replace('</p>',  '')\n",
    "    clean_article = clean_article.replace('</title>',  '')\n",
    "    clean_article = clean_article.replace('<title>',  '')\n",
    "    return clean_article\n",
    "\n",
    "article_text = []\n",
    "for file in files_avail:\n",
    "    with open(file, 'r') as fh:\n",
    "        article_text.append(clean_text(fh.read()))\n",
    "print(len(article_text))\n",
    "print(len(article_text[0]))"
   ]
  },
  {
   "cell_type": "code",
   "execution_count": null,
   "metadata": {},
   "outputs": [],
   "source": [
    "# Some basic stats on the loaded files.\n",
    "total_len = 0\n",
    "\n",
    "\n",
    "print(\"Nr. of articles in mem\", len(article_text))\n",
    "for article in article_text:\n",
    "    total_len += len(article)\n",
    "\n",
    "# AVG length of article in characters.\n",
    "print(\"Avg. nr of characters per article\", round(total_len / len(article_text)))\n",
    "\n",
    "# Same but now the number of words/tokens.\n",
    "total_len = 0\n",
    "\n",
    "for article in article_text:\n",
    "    total_len += len(article.split())\n",
    "\n",
    "print(\"Avg. nr of tokens per article: \", round(total_len / len(article_text)))\n",
    "    "
   ]
  },
  {
   "cell_type": "code",
   "execution_count": null,
   "metadata": {},
   "outputs": [],
   "source": [
    "word_list = {}\n",
    "stop_words = ['hebben', \n",
    "              'heeft', \n",
    "              'dont', \n",
    "              'voor', \n",
    "              'pour', \n",
    "              'dans', \n",
    "              'avec', \n",
    "              'zijn',\n",
    "              'niet',\n",
    "              'groot',\n",
    "              'hier',\n",
    "              'alle'\n",
    "             ]\n",
    "\n",
    "for count, text in enumerate(article_text):    \n",
    "    for word in article_text[count].split():\n",
    "        if word in stop_words:\n",
    "            break\n",
    "        word = word.lower()\n",
    "        if not word in word_list:\n",
    "            word_list[word] = 1\n",
    "        else:\n",
    "            word_list[word] += 1\n",
    "\n",
    "\n",
    "words_of_interest = {}\n",
    "for word in word_list:\n",
    "    if word_list[word] > 100 and word.isalpha() and len(word)> 4:\n",
    "        words_of_interest[word] = word_list[word] "
   ]
  },
  {
   "cell_type": "code",
   "execution_count": null,
   "metadata": {},
   "outputs": [],
   "source": [
    "words = []\n",
    "freq = []\n",
    "\n",
    "# Sorting a dict by value.\n",
    "from collections import OrderedDict\n",
    "from operator import itemgetter \n",
    "words_of_interest = OrderedDict(sorted(words_of_interest.items(), key = itemgetter(1), reverse = False))\n",
    "\n",
    "\n",
    "for w in words_of_interest:\n",
    "    print(w)\n",
    "    words.append(w)\n",
    "    freq.append(word_list[w])\n",
    "    \n",
    "y_pos = np.arange(len(words))\n",
    "\n",
    "plt.barh(y_pos, freq, align='center', alpha=1)\n",
    "plt.yticks(y_pos, words)\n",
    "plt.xlabel('Freq')\n",
    "plt.title('Simple word count graph')\n",
    "\n",
    "plt.rcParams[\"figure.figsize\"] =(5,20) \n",
    "\n",
    "\n",
    "plt.show()\n"
   ]
  },
  {
   "cell_type": "markdown",
   "metadata": {},
   "source": [
    "# Working with XML data"
   ]
  },
  {
   "cell_type": "code",
   "execution_count": null,
   "metadata": {},
   "outputs": [],
   "source": [
    "import lxml.etree as et # As let's you rename things.\n",
    "import os\n",
    "import codecs\n",
    "\n",
    "parser = et.XMLParser(recover=True)\n",
    "\n",
    "with codecs.open('data/1712/01/01/DDD_ddd_010725137_mpeg21/didl.xml', 'r', encoding='UTF-8') as fh:\n",
    "    data = et.ElementTree(et.fromstring(fh.read(), parser=parser))\n",
    "    for item in data.iter():\n",
    "        tag = str(item.tag.lower())\n",
    "        if tag.endswith(\"issued\"):\n",
    "            issued = item.text\n",
    "        if tag.endswith(\"date\"):\n",
    "            date = item.text\n",
    "        \n",
    "print(date)\n",
    "print(issued)"
   ]
  },
  {
   "cell_type": "code",
   "execution_count": null,
   "metadata": {},
   "outputs": [],
   "source": [
    "# And now let's load all the didl files into a list\n",
    "\n",
    "#\n",
    "# ? \n",
    "# We've seen the following code before, if we used two parameters, we could re-use the function,\n",
    "# can you re-write the function so it can be used here?\n",
    "\n",
    "def traverse_dir(path):\n",
    "    files_avail = []\n",
    "    for files in os.walk(path):\n",
    "        for list_file in files:\n",
    "            if type(list_file) == type([]):\n",
    "                for f in list_file:\n",
    "                    if f.endswith('didl.xml'):\n",
    "                        files_avail.append(files[0] + os.sep + f)\n",
    "    return files_avail\n",
    "\n",
    "all_didl = []\n",
    "parser = et.XMLParser(recover=True) \n",
    "\n",
    "files_avail = traverse_dir('data/')\n",
    "for filename in files_avail:\n",
    "    with open(filename) as fh:\n",
    "        data = et.parse(fh, parser=parser)\n",
    "        all_didl.append(data)\n",
    "\n",
    "newspaper_info = {}\n",
    "for didl in all_didl:\n",
    "    pages = []\n",
    "    for item in didl.iter():\n",
    "        if item.tag.endswith(\"title\"):\n",
    "            title = item.text\n",
    "        if item.tag.endswith(\"date\"):\n",
    "            date = item.text\n",
    "        if item.tag.endswith(\"nativePageNumber\"):\n",
    "            pages.append(item.text)\n",
    "    print(title, date, pages)"
   ]
  },
  {
   "cell_type": "code",
   "execution_count": null,
   "metadata": {},
   "outputs": [],
   "source": []
  }
 ],
 "metadata": {
  "kernelspec": {
   "display_name": "Python 3",
   "language": "python",
   "name": "python3"
  },
  "language_info": {
   "codemirror_mode": {
    "name": "ipython",
    "version": 3
   },
   "file_extension": ".py",
   "mimetype": "text/x-python",
   "name": "python",
   "nbconvert_exporter": "python",
   "pygments_lexer": "ipython3",
   "version": "3.6.3"
  }
 },
 "nbformat": 4,
 "nbformat_minor": 2
}
