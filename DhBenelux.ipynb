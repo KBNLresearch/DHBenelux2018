{
 "cells": [
  {
   "cell_type": "markdown",
   "metadata": {},
   "source": [
    "# Koninklijke Bibliotheek\n",
    "\n",
    "## DhBenelux2018: Mining Delpher with a Jupyter Notebook\n",
    "\n",
    "\n",
    "\n"
   ]
  },
  {
   "cell_type": "markdown",
   "metadata": {},
   "source": [
    "# WhatWhyHow\n",
    "\n",
    "This is a simple introduction into using Python to work with plain text and XML data,\n",
    "we're not focussing on Panda's or Numpy or any external library in this introduction cource.\n",
    "\n",
    "Some code blocks contain bonus questions, like so:\n",
    "\n",
    " ?\n",
    "  What if blah bla?\n",
    "\n",
    "Feel free to answer those questions during the workshop.\n",
    "\n",
    "Some of the rationale behind this workshop:\n",
    "\n",
    "https://www.theatlantic.com/science/archive/2018/04/the-scientific-paper-is-obsolete/556676/\n",
    "\n",
    "\n",
    "If you want to run this notebook locally make sure you can install external libs. (using pip or easy_install), if you encounter output like this: \"ImportError: No module named matplotlib.pyplot\" you should install it by executing the following:\n",
    "\n",
    "pip install matplotlib.  (Where matplotlib could be any external lib you are missing.) \n",
    "\n",
    "Tested with python2.7\n",
    "\n",
    "\n",
    "Workshop written by Willem Jan Faber, feel free to redistribute!"
   ]
  },
  {
   "cell_type": "markdown",
   "metadata": {},
   "source": [
    "# Introduction data-types\n",
    "\n",
    "A data-type defines the operation you can do on data, and data defines the data-type.\n",
    "\n",
    "Overview of most important types:\n",
    "\n",
    "int, str, list, dict, boolean, set. (They don't mix)"
   ]
  },
  {
   "cell_type": "code",
   "execution_count": 6,
   "metadata": {},
   "outputs": [
    {
     "data": {
      "text/plain": [
       "int"
      ]
     },
     "execution_count": 6,
     "metadata": {},
     "output_type": "execute_result"
    }
   ],
   "source": [
    "type(1)"
   ]
  },
  {
   "cell_type": "code",
   "execution_count": 7,
   "metadata": {},
   "outputs": [
    {
     "ename": "NameError",
     "evalue": "name 'z' is not defined",
     "output_type": "error",
     "traceback": [
      "\u001b[0;31m---------------------------------------------------------------------------\u001b[0m",
      "\u001b[0;31mNameError\u001b[0m                                 Traceback (most recent call last)",
      "\u001b[0;32m<ipython-input-7-a4ab4f5004e4>\u001b[0m in \u001b[0;36m<module>\u001b[0;34m()\u001b[0m\n\u001b[0;32m----> 1\u001b[0;31m \u001b[0mtype\u001b[0m\u001b[0;34m(\u001b[0m\u001b[0mz\u001b[0m\u001b[0;34m)\u001b[0m\u001b[0;34m\u001b[0m\u001b[0m\n\u001b[0m",
      "\u001b[0;31mNameError\u001b[0m: name 'z' is not defined"
     ]
    }
   ],
   "source": [
    "type(z)"
   ]
  },
  {
   "cell_type": "code",
   "execution_count": null,
   "metadata": {},
   "outputs": [],
   "source": [
    "type(\"z\")"
   ]
  },
  {
   "cell_type": "markdown",
   "metadata": {},
   "source": [
    "#### Mixing types is not allowed...\n",
    "\n",
    "\n",
    "#### For what is monkey + 1?\n"
   ]
  },
  {
   "cell_type": "code",
   "execution_count": null,
   "metadata": {},
   "outputs": [],
   "source": [
    "1 + \"monkey\""
   ]
  },
  {
   "cell_type": "markdown",
   "metadata": {},
   "source": [
    "#### Morphing from one type to other is called 'casting':\n"
   ]
  },
  {
   "cell_type": "code",
   "execution_count": null,
   "metadata": {},
   "outputs": [],
   "source": [
    "str(1) + \"monkey\""
   ]
  },
  {
   "cell_type": "markdown",
   "metadata": {},
   "source": [
    "#### dir() and help() are usefull functions to activly explore Python, you don't have to understand all."
   ]
  },
  {
   "cell_type": "code",
   "execution_count": null,
   "metadata": {},
   "outputs": [],
   "source": [
    "help(type(\"a\"))"
   ]
  },
  {
   "cell_type": "markdown",
   "metadata": {},
   "source": [
    "### The boolean type"
   ]
  },
  {
   "cell_type": "code",
   "execution_count": null,
   "metadata": {},
   "outputs": [],
   "source": [
    "True == True # Built into the language as True and False, these words represent 1 , 0 state."
   ]
  },
  {
   "cell_type": "code",
   "execution_count": null,
   "metadata": {},
   "outputs": [],
   "source": [
    "if True: print(\"ok\")"
   ]
  },
  {
   "cell_type": "code",
   "execution_count": null,
   "metadata": {},
   "outputs": [],
   "source": [
    "if False: print(\"ok\")"
   ]
  },
  {
   "cell_type": "code",
   "execution_count": null,
   "metadata": {},
   "outputs": [],
   "source": [
    "True or False"
   ]
  },
  {
   "cell_type": "markdown",
   "metadata": {},
   "source": [
    "### The dictonary type"
   ]
  },
  {
   "cell_type": "code",
   "execution_count": null,
   "metadata": {},
   "outputs": [],
   "source": [
    "a = {}\n",
    "print(type(a))"
   ]
  },
  {
   "cell_type": "code",
   "execution_count": null,
   "metadata": {},
   "outputs": [],
   "source": [
    "print(dir(type(a)))"
   ]
  },
  {
   "cell_type": "code",
   "execution_count": null,
   "metadata": {},
   "outputs": [],
   "source": [
    "a = {\"fruit\": 1,\n",
    "     \"groente\" : 2,\n",
    "     \"vlees\" : 3}\n",
    "print(a[\"vlees\"])"
   ]
  },
  {
   "cell_type": "code",
   "execution_count": null,
   "metadata": {},
   "outputs": [],
   "source": [
    "a.get(\"vlees\")"
   ]
  },
  {
   "cell_type": "code",
   "execution_count": null,
   "metadata": {},
   "outputs": [],
   "source": [
    "for i in a:\n",
    "    print(i)"
   ]
  },
  {
   "cell_type": "code",
   "execution_count": null,
   "metadata": {},
   "outputs": [],
   "source": [
    "for i in a:\n",
    "    print(i, a.get(i))"
   ]
  },
  {
   "cell_type": "markdown",
   "metadata": {},
   "source": [
    "### The list type"
   ]
  },
  {
   "cell_type": "code",
   "execution_count": null,
   "metadata": {},
   "outputs": [],
   "source": [
    "b = []\n",
    "print(type(b))"
   ]
  },
  {
   "cell_type": "code",
   "execution_count": null,
   "metadata": {},
   "outputs": [],
   "source": [
    "print(dir(type(b)))"
   ]
  },
  {
   "cell_type": "code",
   "execution_count": null,
   "metadata": {},
   "outputs": [],
   "source": [
    "b.append(1)\n",
    "b.append(2)\n",
    "b.append(9)\n",
    "b.append(-1)\n",
    "b.append(2)\n",
    "print(b)"
   ]
  },
  {
   "cell_type": "markdown",
   "metadata": {},
   "source": [
    "List's can be used to sort."
   ]
  },
  {
   "cell_type": "code",
   "execution_count": null,
   "metadata": {},
   "outputs": [],
   "source": [
    "print(sorted(b)) # Sort on printing, don't touch the list.\n",
    "b.sort() # Sort the list in memory.\n",
    "print(b)"
   ]
  },
  {
   "cell_type": "markdown",
   "metadata": {},
   "source": [
    "Addressing the list using position of element."
   ]
  },
  {
   "cell_type": "code",
   "execution_count": null,
   "metadata": {},
   "outputs": [],
   "source": [
    "print(b[0]) # First element\n",
    "print(b[-1]) # Print the last element"
   ]
  },
  {
   "cell_type": "markdown",
   "metadata": {},
   "source": [
    "Using this type of adressing to select a range."
   ]
  },
  {
   "cell_type": "code",
   "execution_count": null,
   "metadata": {},
   "outputs": [],
   "source": [
    "print(b[0:2]) # Everything from the first element till the 2nd."
   ]
  },
  {
   "cell_type": "markdown",
   "metadata": {},
   "source": [
    "Looping over a list."
   ]
  },
  {
   "cell_type": "code",
   "execution_count": null,
   "metadata": {},
   "outputs": [],
   "source": [
    "for i in b: # Simple for loop\n",
    "    print(i)\n",
    "    \n",
    "    #\n",
    "    # ?\n",
    "    # Try to loop over a range of the list, without using a extra line of code."
   ]
  },
  {
   "cell_type": "markdown",
   "metadata": {},
   "source": [
    "List's are often found nested, with a filter expression."
   ]
  },
  {
   "cell_type": "code",
   "execution_count": null,
   "metadata": {},
   "outputs": [],
   "source": [
    "print([i for i in b if i > 0])"
   ]
  },
  {
   "cell_type": "markdown",
   "metadata": {},
   "source": [
    "Query a list"
   ]
  },
  {
   "cell_type": "code",
   "execution_count": null,
   "metadata": {},
   "outputs": [],
   "source": [
    "print(10 in b)"
   ]
  },
  {
   "cell_type": "markdown",
   "metadata": {},
   "source": [
    "### The set type"
   ]
  },
  {
   "cell_type": "code",
   "execution_count": null,
   "metadata": {},
   "outputs": [],
   "source": [
    "a = set([1,1,2,2,2,2,2,3,4]) # A list of numbers is casted into a set.\n",
    "print(a) # Set's only contain unique items."
   ]
  },
  {
   "cell_type": "code",
   "execution_count": null,
   "metadata": {},
   "outputs": [],
   "source": [
    "print(dir(type(a)))"
   ]
  },
  {
   "cell_type": "code",
   "execution_count": null,
   "metadata": {},
   "outputs": [],
   "source": [
    "b = set([2,3,5,9])\n",
    "a.union(b)"
   ]
  },
  {
   "cell_type": "code",
   "execution_count": null,
   "metadata": {},
   "outputs": [],
   "source": [
    "a.intersection(b)"
   ]
  },
  {
   "cell_type": "code",
   "execution_count": null,
   "metadata": {},
   "outputs": [],
   "source": [
    "#\n",
    "# ?\n",
    "# Now you understand the basic types, can you combine and work with them?\n",
    "# For example:\n",
    "\n",
    "# a = [{'gluten' : 'vrij', 'verkocht' : False}, {'water' : 'stroom', 'verkocht' : True}]\n",
    "\n"
   ]
  },
  {
   "cell_type": "markdown",
   "metadata": {},
   "source": [
    "### Operations on data"
   ]
  },
  {
   "cell_type": "code",
   "execution_count": null,
   "metadata": {},
   "outputs": [],
   "source": [
    "1 + 1 # Adding"
   ]
  },
  {
   "cell_type": "code",
   "execution_count": null,
   "metadata": {},
   "outputs": [],
   "source": [
    "a = 1 + 1 # Using variable names\n",
    "b = a + 1\n",
    "b"
   ]
  },
  {
   "cell_type": "code",
   "execution_count": null,
   "metadata": {},
   "outputs": [],
   "source": [
    "10 / 2 # Divide"
   ]
  },
  {
   "cell_type": "code",
   "execution_count": null,
   "metadata": {},
   "outputs": [],
   "source": [
    "2 * 8 # Multiply"
   ]
  },
  {
   "cell_type": "code",
   "execution_count": null,
   "metadata": {},
   "outputs": [],
   "source": [
    "len(\"Dit is een str\")"
   ]
  },
  {
   "cell_type": "code",
   "execution_count": null,
   "metadata": {},
   "outputs": [],
   "source": [
    "len([1,2,3])"
   ]
  },
  {
   "cell_type": "code",
   "execution_count": null,
   "metadata": {},
   "outputs": [],
   "source": [
    "\"HOOFDLETTER\".isupper()"
   ]
  },
  {
   "cell_type": "code",
   "execution_count": null,
   "metadata": {},
   "outputs": [],
   "source": [
    "\"pindakaas\".endswith(\"kaas\")"
   ]
  },
  {
   "cell_type": "code",
   "execution_count": null,
   "metadata": {},
   "outputs": [],
   "source": [
    "\"A\".isalpha() # Alphanumeric?"
   ]
  },
  {
   "cell_type": "code",
   "execution_count": null,
   "metadata": {},
   "outputs": [],
   "source": [
    "\"$sdew#@gfdsfgd$#@\".isalpha()"
   ]
  },
  {
   "cell_type": "code",
   "execution_count": null,
   "metadata": {},
   "outputs": [],
   "source": [
    "a = \"b\" # Comparing types of data is seen often.\n",
    "b = \"b\"\n",
    "type(a) == type(b)"
   ]
  },
  {
   "cell_type": "code",
   "execution_count": null,
   "metadata": {},
   "outputs": [],
   "source": [
    "type([]) == type(\"\")"
   ]
  },
  {
   "cell_type": "markdown",
   "metadata": {},
   "source": [
    "[Now let's apply](https://www.youtube.com/watch?v=dQw4w9WgXcQ)"
   ]
  },
  {
   "cell_type": "markdown",
   "metadata": {},
   "source": [
    "# Working with data from disk\n",
    "https://resolver.kb.nl/resolve?urn=DATA:kranten:kranten_pd_171x.zip\n",
    "\n",
    "This file was downloaded and unzipped in the directory data, let's explore.\n"
   ]
  },
  {
   "cell_type": "code",
   "execution_count": 11,
   "metadata": {},
   "outputs": [
    {
     "data": {
      "text/plain": [
       "['1710',\n",
       " 'LEESMIJ_kranten_pd_171x.txt',\n",
       " '1711',\n",
       " 'index_kranten_pd_171x.tsv',\n",
       " '1712',\n",
       " 'README_newspapers_pd_171x.txt']"
      ]
     },
     "execution_count": 11,
     "metadata": {},
     "output_type": "execute_result"
    }
   ],
   "source": [
    "import os # External library to interact with operating system\n",
    "\n",
    "os.listdir('data')"
   ]
  },
  {
   "cell_type": "code",
   "execution_count": 12,
   "metadata": {},
   "outputs": [
    {
     "data": {
      "text/plain": [
       "['01', '07']"
      ]
     },
     "execution_count": 12,
     "metadata": {},
     "output_type": "execute_result"
    }
   ],
   "source": [
    "os.listdir('data/1712')"
   ]
  },
  {
   "cell_type": "code",
   "execution_count": 13,
   "metadata": {},
   "outputs": [
    {
     "name": "stdout",
     "output_type": "stream",
     "text": [
      "DDD_010725137_0005_articletext.xml\n",
      "DDD_010725137_0001_articletext.xml\n",
      "DDD_010725137_0002_articletext.xml\n",
      "DDD_010725137_0004_articletext.xml\n",
      "DDD_010725137_0003_articletext.xml\n",
      "DDD_010725137_0006_articletext.xml\n"
     ]
    }
   ],
   "source": [
    "for file in os.listdir('data/1712/01/01/DDD_ddd_010725137_mpeg21'):\n",
    "    if file.endswith('_articletext.xml'):\n",
    "        print(file)"
   ]
  },
  {
   "cell_type": "markdown",
   "metadata": {},
   "source": [
    "## Load OCR text into memory for exploration."
   ]
  },
  {
   "cell_type": "code",
   "execution_count": 14,
   "metadata": {},
   "outputs": [
    {
     "name": "stdout",
     "output_type": "stream",
     "text": [
      "<?xml version=\"1.0\" encoding=\"UTF-8\"?>\n",
      "<text>\n",
      "\t<title>NEDERLANDEN.</title>\n",
      "\t<p>.■int/lerditm den 30 Decemïer. Volgens de laetfle brieven van Bourdeatu, wierd de fchadc die door d« ftormwinden lang» die kuflen gefchied wai, dagelyks groter bevonden ; zynde het Ichip de Leorvora Schipper Jochem Poelman , na de Ooft-Zee gedeftineerd , ook \\ verongelukt: als mede een ander fchip van Rochel , het welk onder Bell&apos;-Ille gebieeven was. Van St. Domingo was&apos;er gekomen het fchip de Vteede ,en te Nantes het Deens fchip de NoOidfe-Leeuw , Schipper Chtiftinen Nieifen. Volgen» de tydingcn van St. Matten , j hoorde men daer ook nog van meet Ichade ter Zee , doot de laetfte \\ ftotmen veroorzaekt. Van de Rivier van Bourdcaui waren in Zee gelopen de fcheepen de Wyn kan , de Evangelift Mattheus, en nog eenander. Het bovengemelde fchip onder BeU&apos;-lile gebieeven , is dat van Schippet Jan Struykman. Schipper Jurgen Lubken was uyt de Cotunna te Nantes aengeland. Te Marfeille was van Alexandiien geaitiveeid het fchip van den Kapiteyn rellegrin ; hetzelve was in gezelfchap van het fchip van den Kapiteyn Eyme , van Tunis j vertrokken, en voor 6 dagen op de hoogte van Sardeigne , daer van afgeraekr. Van Livorno had men te Marfeille vanden 10 dezes tyding , dat doot de 2 Zeeuwfe kapers de Griffioen en de Mcrkutius, aldaer opgebragt waren 2 Franife pryzen , namentlyk het fchip van Kapiteyn Rachet, van Marfeille na Alexandnen gedeftineerd , en dat »an Kapiteyn Reboult , van Salonica na Matfeille willende. De 2 gemelde kapers hïdde.ll by de Kacp Pafl&apos;er in goeden ftaet ontmoet het fchip de Sardaniniei-galey Kapt. Doede Pieterfz , het welk in de Archipel granen geladen had , en na Lisbon zeylde. Men heeft brieven van Grunftad in Noorweege» van den 5 deezer , r.eldeode dat het Hollands oorlogfchip van deuKapiteyu van Leeuwen , -net de koopvaerders van de Schippers Lieuwke Siewerts , Keffel Get&apos;orandTz , Pieter ViiTet en andere , van daer na Virkkeien was gezeyld , alwaerdeze fcheepen ook aengekor.icn zouden zyn. Men had&apos;cr onk r.aricht dat het oorlogfchip van do: rooideesgeir.elden Engelfen Commandeur, voerende 54 Hukken kanon en 400 man, met verfcheyde koopvaerders uyt Vlekkeren gezeyld zynde , op Lagelandlis-ebleevcn was , 70 dat&apos;et maer een man van het zelve was eeboigen. Men hoorde op de Noordfrlir Kuflen dagelyks nog van meer (&apos;chade , dog de namen der fcheepen die verongelukt zyn, worden niet genoemd. Het fêriif van Samuel Lolling uyt de Pillau na Riga willende , was voor de Piüati ten anker gekomen ; en het vermifte fchip van Schipper Jacoo Janl&apos;z. van Luhek na Port a Port gedeftineerd , en met de Vloot uyt de Zond herwaerds gezeyld, was, volgens de brieven van Mambnrg , #p de Elf gelopen. Van London word gelchreeveo dat de gearriveerde Vloot van Hamburg in Oulondsßay quarantaine houden moeit, zonder dat&apos;ei iets aen Land mogt worden gebragt. Het Spaenlchc fchip van Mare. d&apos;Efpanha en andere , vanßilbaona London willende , waren te Portimouth ingelopen; als mede het fchip de John en Mary Kapt. William Scot, van Mallaga en Gibraltar, en de St. Antoniodi Padua in 14 dagen van de Kanarien , welkers Kapiteyn de vorige ryding van het neemen der Franffe fcheepen in de Weft- Indié&apos;n d»or de Engellche , beveiligd. Volgens de advyzen van Duynkerken , had men her fchip ook de St. Antonio di Padua genaemd , het welk voor ontrent een jaer van London na Spanjen gaende , daei opgebragt wierd , nu voor goede Prys vetklaerd. Van hici waste Kork gekomen het fcliip de Dolphtn Schipper Jan Leeridertfz , en op den Theems waren leeds aengeland de fcheepen van de Kapiteyns Francifco dt la Qnadra en Marco d&apos;Efpanha. In Yerlar.d was van Lisbon geaniveeid het Ichip de Fonteyn galey Schippet Izaakßoelofz. lat Vlie of in Texel zyn gifteren geen fcheepen binnen gekomen. Jtanerdar.i dm 30 December. De Prins en Kardinael Hertog van Bouillon Decken van het Szcro College, en Abt van Clugny , (oader welken laetftgemeiden Titul hy allcenlyk bekend wil weezen , om alle moevelykheyd weegens het Ceremonieel te myden) arriveerde gifteten met de Princes van Auvergne in deeze Stad. Hy klom af en nam zyn verblyf in het huys het welk de Paters Recolleften beweonen , en is deezen morgen na Dejff vertrokken , om d.ier eenige dagen te blyven en zich na den Haeg te begeven zo dikwils als de zaken die daer nog af te doen zyn , aertgaende de SucceflTe van den laetft oveiieeden Prins van Auvergne Marcjiüs van Bergen op-Zoom zynen Neef, die maet eene Dogter dewelke ? jaren oud is, nagelaten haeft; zulks zullen vereyfehen. &apos;1 ürAzmljtftden 31 December. Gifleie-morgen was de Gtaef van Strafford Pleaipotentiatis van de Koningin van Groot-Brittannien , met Heeren Gedeputeerden van de Staten Generael in conferentie. Be Ptins Eugcaius van Savoyen zond dien dag eenen Ezpreflea na Engeland , en zo men zegt eenen andeten na den Keyzer. Dezen morgen was gemelde zyn Hoogheyd en de Baron Heem! , neffens den Graef van Strafford, wederom met haer Hoog Mogende Gedeputeerden in eene lange conferentie. Giftet-avond wierd een Exprefle van hier aen den Gcncracl Graef van. Albemarie na Doornik afgezonden. De Heeien Staeien van Holland en Weit-Frieilaud zullen aeniiaende dingsdag hier wedeiom vergaderen. TUchelle den 15 December. Bchalvcn de fterke wind die men hier den 2 j der vooileede maend gehad heeft, en die toen veel fchadc verootz.aekte, heeft men den » dezer nog zwaetder onweer het welk twaelf uren agter elkander duurde , uytßcitaen. Een kaper is in deeze Have verongelukt. Vyf andeie fcheepen hebben hunne maften verloren , na dat de «neefte chaloupen , ankeis , en touwen in Zee waten getaekt. Het fregat des Konings genaemd de Diana , is op de Kuil gebleevcn , met io» man die daer op waren ; dog de Commandeur heeft zig alleen met zwemmen gefalveerd. Een kapet is in de Rivier va» Rochefott gezonken , èn daer mede 5 o man vetdronken. Aen de huyzen in deze Stad tn ten «latten Lande is ook veel f«&apos; ad e gefchied.</p>\n",
      "</text>\n",
      "\n"
     ]
    }
   ],
   "source": [
    "article_text = [] # Initialize empy list for article text.\n",
    "PATH = 'data/1712/01/01/DDD_ddd_010725137_mpeg21'\n",
    "\n",
    "for file in os.listdir(PATH):\n",
    "    if file.endswith('_articletext.xml'):\n",
    "        with open(PATH + os.sep + file, 'r') as fh:\n",
    "            article_text.append(fh.read())\n",
    "\n",
    "print(article_text[0])"
   ]
  },
  {
   "cell_type": "markdown",
   "metadata": {},
   "source": [
    "## Removing XML tags for the text."
   ]
  },
  {
   "cell_type": "code",
   "execution_count": 15,
   "metadata": {},
   "outputs": [
    {
     "name": "stdout",
     "output_type": "stream",
     "text": [
      "\n",
      "\n",
      "\tNEDERLANDEN.\n",
      "\t.■int/lerditm den 30 Decemïer. Volgens de laetfle brieven van Bourdeatu, wierd de fchadc die door d« ftormwinden lang» die kuflen gefchied wai, dagelyks groter bevonden ; zynde het Ichip de Leorvora Schipper Jochem Poelman , na de Ooft-Zee gedeftineerd , ook \\ verongelukt: als mede een ander fchip van Rochel , het welk onder Bell&apos;-Ille gebieeven was. Van St. Domingo was&apos;er gekomen het fchip de Vteede ,en te Nantes het Deens fchip de NoOidfe-Leeuw , Schipper Chtiftinen Nieifen. Volgen» de tydingcn van St. Matten , j hoorde men daer ook nog van meet Ichade ter Zee , doot de laetfte \\ ftotmen veroorzaekt. Van de Rivier van Bourdcaui waren in Zee gelopen de fcheepen de Wyn kan , de Evangelift Mattheus, en nog eenander. Het bovengemelde fchip onder BeU&apos;-lile gebieeven , is dat van Schippet Jan Struykman. Schipper Jurgen Lubken was uyt de Cotunna te Nantes aengeland. Te Marfeille was van Alexandiien geaitiveeid het fchip van den Kapiteyn rellegrin ; hetzelve was in gezelfchap van het fchip van den Kapiteyn Eyme , van Tunis j vertrokken, en voor 6 dagen op de hoogte van Sardeigne , daer van afgeraekr. Van Livorno had men te Marfeille vanden 10 dezes tyding , dat doot de 2 Zeeuwfe kapers de Griffioen en de Mcrkutius, aldaer opgebragt waren 2 Franife pryzen , namentlyk het fchip van Kapiteyn Rachet, van Marfeille na Alexandnen gedeftineerd , en dat »an Kapiteyn Reboult , van Salonica na Matfeille willende. De 2 gemelde kapers hïdde.ll by de Kacp Pafl&apos;er in goeden ftaet ontmoet het fchip de Sardaniniei-galey Kapt. Doede Pieterfz , het welk in de Archipel granen geladen had , en na Lisbon zeylde. Men heeft brieven van Grunftad in Noorweege» van den 5 deezer , r.eldeode dat het Hollands oorlogfchip van deuKapiteyu van Leeuwen , -net de koopvaerders van de Schippers Lieuwke Siewerts , Keffel Get&apos;orandTz , Pieter ViiTet en andere , van daer na Virkkeien was gezeyld , alwaerdeze fcheepen ook aengekor.icn zouden zyn. Men had&apos;cr onk r.aricht dat het oorlogfchip van do: rooideesgeir.elden Engelfen Commandeur, voerende 54 Hukken kanon en 400 man, met verfcheyde koopvaerders uyt Vlekkeren gezeyld zynde , op Lagelandlis-ebleevcn was , 70 dat&apos;et maer een man van het zelve was eeboigen. Men hoorde op de Noordfrlir Kuflen dagelyks nog van meer (&apos;chade , dog de namen der fcheepen die verongelukt zyn, worden niet genoemd. Het fêriif van Samuel Lolling uyt de Pillau na Riga willende , was voor de Piüati ten anker gekomen ; en het vermifte fchip van Schipper Jacoo Janl&apos;z. van Luhek na Port a Port gedeftineerd , en met de Vloot uyt de Zond herwaerds gezeyld, was, volgens de brieven van Mambnrg , #p de Elf gelopen. Van London word gelchreeveo dat de gearriveerde Vloot van Hamburg in Oulondsßay quarantaine houden moeit, zonder dat&apos;ei iets aen Land mogt worden gebragt. Het Spaenlchc fchip van Mare. d&apos;Efpanha en andere , vanßilbaona London willende , waren te Portimouth ingelopen; als mede het fchip de John en Mary Kapt. William Scot, van Mallaga en Gibraltar, en de St. Antoniodi Padua in 14 dagen van de Kanarien , welkers Kapiteyn de vorige ryding van het neemen der Franffe fcheepen in de Weft- Indié&apos;n d»or de Engellche , beveiligd. Volgens de advyzen van Duynkerken , had men her fchip ook de St. Antonio di Padua genaemd , het welk voor ontrent een jaer van London na Spanjen gaende , daei opgebragt wierd , nu voor goede Prys vetklaerd. Van hici waste Kork gekomen het fcliip de Dolphtn Schipper Jan Leeridertfz , en op den Theems waren leeds aengeland de fcheepen van de Kapiteyns Francifco dt la Qnadra en Marco d&apos;Efpanha. In Yerlar.d was van Lisbon geaniveeid het Ichip de Fonteyn galey Schippet Izaakßoelofz. lat Vlie of in Texel zyn gifteren geen fcheepen binnen gekomen. Jtanerdar.i dm 30 December. De Prins en Kardinael Hertog van Bouillon Decken van het Szcro College, en Abt van Clugny , (oader welken laetftgemeiden Titul hy allcenlyk bekend wil weezen , om alle moevelykheyd weegens het Ceremonieel te myden) arriveerde gifteten met de Princes van Auvergne in deeze Stad. Hy klom af en nam zyn verblyf in het huys het welk de Paters Recolleften beweonen , en is deezen morgen na Dejff vertrokken , om d.ier eenige dagen te blyven en zich na den Haeg te begeven zo dikwils als de zaken die daer nog af te doen zyn , aertgaende de SucceflTe van den laetft oveiieeden Prins van Auvergne Marcjiüs van Bergen op-Zoom zynen Neef, die maet eene Dogter dewelke ? jaren oud is, nagelaten haeft; zulks zullen vereyfehen. &apos;1 ürAzmljtftden 31 December. Gifleie-morgen was de Gtaef van Strafford Pleaipotentiatis van de Koningin van Groot-Brittannien , met Heeren Gedeputeerden van de Staten Generael in conferentie. Be Ptins Eugcaius van Savoyen zond dien dag eenen Ezpreflea na Engeland , en zo men zegt eenen andeten na den Keyzer. Dezen morgen was gemelde zyn Hoogheyd en de Baron Heem! , neffens den Graef van Strafford, wederom met haer Hoog Mogende Gedeputeerden in eene lange conferentie. Giftet-avond wierd een Exprefle van hier aen den Gcncracl Graef van. Albemarie na Doornik afgezonden. De Heeien Staeien van Holland en Weit-Frieilaud zullen aeniiaende dingsdag hier wedeiom vergaderen. TUchelle den 15 December. Bchalvcn de fterke wind die men hier den 2 j der vooileede maend gehad heeft, en die toen veel fchadc verootz.aekte, heeft men den » dezer nog zwaetder onweer het welk twaelf uren agter elkander duurde , uytßcitaen. Een kaper is in deeze Have verongelukt. Vyf andeie fcheepen hebben hunne maften verloren , na dat de «neefte chaloupen , ankeis , en touwen in Zee waten getaekt. Het fregat des Konings genaemd de Diana , is op de Kuil gebleevcn , met io» man die daer op waren ; dog de Commandeur heeft zig alleen met zwemmen gefalveerd. Een kapet is in de Rivier va» Rochefott gezonken , èn daer mede 5 o man vetdronken. Aen de huyzen in deze Stad tn ten «latten Lande is ook veel f«&apos; ad e gefchied.\n",
      "\n",
      "\n"
     ]
    }
   ],
   "source": [
    "for count, article in enumerate(article_text):\n",
    "    clean_article = article.replace('<?xml version=\"1.0\" encoding=\"UTF-8\"?>', '')\n",
    "    clean_article = clean_article.replace('<text>', '')\n",
    "    clean_article = clean_article.replace('</text>',  '')\n",
    "    clean_article = clean_article.replace('<p>',  '')\n",
    "    clean_article = clean_article.replace('</p>',  '')\n",
    "    clean_article = clean_article.replace('</title>',  '')\n",
    "    clean_article = clean_article.replace('<title>',  '')\n",
    "    article_text[count] = clean_article\n",
    "    \n",
    "    #\n",
    "    # ? \n",
    "    # I did not fix the XML & sign, can you fix it for me?\n",
    "    \n",
    "print(article_text[0])"
   ]
  },
  {
   "cell_type": "markdown",
   "metadata": {},
   "source": [
    "## Counting the freq of words, and apply fiter"
   ]
  },
  {
   "cell_type": "code",
   "execution_count": 16,
   "metadata": {},
   "outputs": [
    {
     "name": "stdout",
     "output_type": "stream",
     "text": [
      "brieven 3\n",
      "wierd 3\n",
      "Schipper 5\n",
      "gedeftineerd 3\n",
      "fchip 12\n",
      "gekomen 3\n",
      "waren 5\n",
      "fcheepen 7\n",
      "Marfeille 3\n",
      "Kapiteyn 5\n",
      "dagen 3\n",
      "heeft 3\n",
      "London 3\n"
     ]
    }
   ],
   "source": [
    "word_list = {}\n",
    "for word in article_text[0].split(): # split() takes in a string and returns a list based upon the number of whitespaces.\n",
    "    if not word in word_list:\n",
    "        word_list[word] = 1\n",
    "    else:\n",
    "        word_list[word] += 1\n",
    "#\n",
    "# ?\n",
    "# The split works but is a bit of a cheap solution, for words ending in . or , won't be taken into account.\n",
    "# How could we fix this?\n",
    "        \n",
    "\n",
    "for word in word_list:\n",
    "    if word_list[word] > 2 and word.isalpha() and len(word)> 4:\n",
    "        print(word, word_list[word])\n",
    "        \n",
    "#\n",
    "# ?\n",
    "# The if expression could also be written as a nested list, how?"
   ]
  },
  {
   "cell_type": "markdown",
   "metadata": {},
   "source": [
    "Scaling up by analyzing all documents in mem."
   ]
  },
  {
   "cell_type": "code",
   "execution_count": 17,
   "metadata": {},
   "outputs": [
    {
     "name": "stdout",
     "output_type": "stream",
     "text": [
      "wierd 5\n",
      "schipper 5\n",
      "fchip 12\n",
      "onder 6\n",
      "waren 7\n",
      "fcheepen 7\n",
      "kapiteyn 5\n",
      "dagen 7\n",
      "andere 5\n",
      "ontrent 5\n",
      "binnen 7\n",
      "eenige 8\n",
      "dewelke 5\n",
      "zullen 8\n",
      "hebben 6\n",
      "nieuwe 5\n",
      "dezelve 5\n"
     ]
    }
   ],
   "source": [
    "word_list = {}\n",
    "for count, text in enumerate(article_text):    \n",
    "    for word in article_text[count].split():\n",
    "        word = word.lower()\n",
    "        if not word in word_list:\n",
    "            word_list[word] = 1\n",
    "        else:\n",
    "            word_list[word] += 1\n",
    "\n",
    "\n",
    "words_of_interest = []\n",
    "for word in word_list:\n",
    "    if word_list[word] > 4 and word.isalpha() and len(word)> 4:\n",
    "        print(word, word_list[word])\n",
    "        words_of_interest.append([word, word_list[word]])"
   ]
  },
  {
   "cell_type": "markdown",
   "metadata": {},
   "source": [
    "## Vizualizing using mathplotlib\n",
    "\n",
    "https://matplotlib.org/1.5.0/gallery.html\n"
   ]
  },
  {
   "cell_type": "code",
   "execution_count": 18,
   "metadata": {},
   "outputs": [],
   "source": [
    "import matplotlib.pyplot as plt\n",
    "import matplotlib.dates as dates\n",
    "import numpy as np\n",
    "%matplotlib inline"
   ]
  },
  {
   "cell_type": "code",
   "execution_count": 19,
   "metadata": {},
   "outputs": [
    {
     "name": "stdout",
     "output_type": "stream",
     "text": [
      "[ 0.50255121  0.83252423  0.13632864  0.91437088  0.3467587   0.31073737\n",
      "  0.75216597  0.36423441  0.82929903  0.11437285  0.37959968  0.58826879\n",
      "  0.29650639  0.95712183  0.03959366  0.04647116  0.59597558]\n"
     ]
    },
    {
     "data": {
      "image/png": "[encoded data removed]",
      "text/plain": [
       "<matplotlib.figure.Figure at 0x7f10b1d070f0>"
      ]
     },
     "metadata": {},
     "output_type": "display_data"
    }
   ],
   "source": [
    "words = []\n",
    "freq = []\n",
    "\n",
    "for word, count in words_of_interest:\n",
    "    words.append(word)\n",
    "    freq.append(count)\n",
    "    \n",
    "y_pos = np.arange(len(words))\n",
    "\n",
    "error = np.random.rand(len(words))\n",
    "print(error)\n",
    "plt.barh(y_pos, freq, align='center', alpha=0.4)\n",
    "plt.yticks(y_pos, words)\n",
    "plt.xlabel('Freq')\n",
    "plt.title('Simple word count graph')\n",
    "\n",
    "plt.show()"
   ]
  },
  {
   "cell_type": "markdown",
   "metadata": {},
   "source": [
    "## Declaring functions, enables layers of complexity"
   ]
  },
  {
   "cell_type": "code",
   "execution_count": 20,
   "metadata": {},
   "outputs": [
    {
     "name": "stdout",
     "output_type": "stream",
     "text": [
      "3086\n",
      "3086\n",
      "2683\n"
     ]
    }
   ],
   "source": [
    "def traverse_dir(path): # Declaration of function with one parameter, returning 1 parameter.\n",
    "    files_avail = []\n",
    "    for files in os.walk(path):\n",
    "        for list_file in files:\n",
    "            if type(list_file) == type([]):\n",
    "                for f in list_file:\n",
    "                    if f.endswith('_articletext.xml'):\n",
    "                        files_avail.append(files[0] + os.sep + f)\n",
    "    return files_avail\n",
    "files_avail = traverse_dir('data/')\n",
    "print(len(files_avail))\n",
    "\n",
    "def clean_text(text):\n",
    "    clean_article = text.replace('<?xml version=\"1.0\" encoding=\"UTF-8\"?>', '')\n",
    "    clean_article = clean_article.replace('<text>', '')\n",
    "    clean_article = clean_article.replace('</text>',  '')\n",
    "    clean_article = clean_article.replace('<p>',  '')\n",
    "    clean_article = clean_article.replace('</p>',  '')\n",
    "    clean_article = clean_article.replace('</title>',  '')\n",
    "    clean_article = clean_article.replace('<title>',  '')\n",
    "    return clean_article\n",
    "\n",
    "article_text = []\n",
    "for file in files_avail:\n",
    "    with open(file, 'r') as fh:\n",
    "        article_text.append(clean_text(fh.read()))\n",
    "print(len(article_text))\n",
    "print(len(article_text[0]))"
   ]
  },
  {
   "cell_type": "code",
   "execution_count": 21,
   "metadata": {},
   "outputs": [
    {
     "name": "stdout",
     "output_type": "stream",
     "text": [
      "Nr. of articles in mem 3086\n",
      "Avg. nr of characters per article 4220\n",
      "Avg. nr of tokens per article:  668\n"
     ]
    }
   ],
   "source": [
    "# Some basic stats on the loaded files.\n",
    "total_len = 0\n",
    "\n",
    "\n",
    "print(\"Nr. of articles in mem\", len(article_text))\n",
    "for article in article_text:\n",
    "    total_len += len(article)\n",
    "\n",
    "# AVG length of article in characters.\n",
    "print(\"Avg. nr of characters per article\", round(total_len / len(article_text)))\n",
    "\n",
    "# Same but now the number of words/tokens.\n",
    "total_len = 0\n",
    "\n",
    "for article in article_text:\n",
    "    total_len += len(article.split())\n",
    "\n",
    "print(\"Avg. nr of tokens per article: \", round(total_len / len(article_text)))\n",
    "    "
   ]
  },
  {
   "cell_type": "code",
   "execution_count": 22,
   "metadata": {},
   "outputs": [],
   "source": [
    "word_list = {}\n",
    "stop_words = ['hebben', \n",
    "              'heeft', \n",
    "              'dont', \n",
    "              'voor', \n",
    "              'pour', \n",
    "              'dans', \n",
    "              'avec', \n",
    "              'zijn',\n",
    "              'niet',\n",
    "              'groot',\n",
    "              'hier',\n",
    "              'alle'\n",
    "             ]\n",
    "\n",
    "for count, text in enumerate(article_text):    \n",
    "    for word in article_text[count].split():\n",
    "        if word in stop_words:\n",
    "            break\n",
    "        word = word.lower()\n",
    "        if not word in word_list:\n",
    "            word_list[word] = 1\n",
    "        else:\n",
    "            word_list[word] += 1\n",
    "\n",
    "\n",
    "words_of_interest = {}\n",
    "for word in word_list:\n",
    "    if word_list[word] > 100 and word.isalpha() and len(word)> 4:\n",
    "        words_of_interest[word] = word_list[word] "
   ]
  },
  {
   "cell_type": "code",
   "execution_count": 23,
   "metadata": {},
   "outputs": [
    {
     "name": "stdout",
     "output_type": "stream",
     "text": [
      "gekomen\n",
      "londen\n",
      "bekomen\n",
      "nieuwe\n",
      "heden\n",
      "alhier\n",
      "verkopen\n",
      "party\n",
      "prins\n",
      "vyanden\n",
      "troupen\n",
      "weenen\n",
      "parijs\n",
      "omtrent\n",
      "hadden\n",
      "heeren\n",
      "generael\n",
      "waren\n",
      "binnen\n",
      "duytsland\n",
      "wegens\n",
      "madrid\n",
      "hebbende\n",
      "volgens\n",
      "werden\n",
      "leger\n",
      "graef\n",
      "duytflant\n",
      "zullen\n",
      "koning\n",
      "hertog\n",
      "groot\n",
      "brieven\n",
      "andere\n",
      "dagen\n",
      "onder\n",
      "eenige\n"
     ]
    },
    {
     "data": {
      "image/png": "[encoded data removed]",
      "text/plain": [
       "<matplotlib.figure.Figure at 0x7f10af6b0f60>"
      ]
     },
     "metadata": {},
     "output_type": "display_data"
    }
   ],
   "source": [
    "words = []\n",
    "freq = []\n",
    "\n",
    "# Sorting a dict by value.\n",
    "from collections import OrderedDict\n",
    "from operator import itemgetter \n",
    "words_of_interest = OrderedDict(sorted(words_of_interest.items(), key = itemgetter(1), reverse = False))\n",
    "\n",
    "\n",
    "for w in words_of_interest:\n",
    "    print(w)\n",
    "    words.append(w)\n",
    "    freq.append(word_list[w])\n",
    "    \n",
    "y_pos = np.arange(len(words))\n",
    "\n",
    "plt.barh(y_pos, freq, align='center', alpha=1)\n",
    "plt.yticks(y_pos, words)\n",
    "plt.xlabel('Freq')\n",
    "plt.title('Simple word count graph')\n",
    "\n",
    "plt.rcParams[\"figure.figsize\"] =(5,20) \n",
    "\n",
    "\n",
    "plt.show()\n"
   ]
  },
  {
   "cell_type": "markdown",
   "metadata": {},
   "source": [
    "# Working with XML data"
   ]
  },
  {
   "cell_type": "code",
   "execution_count": 24,
   "metadata": {},
   "outputs": [
    {
     "ename": "ModuleNotFoundError",
     "evalue": "No module named 'lxml'",
     "output_type": "error",
     "traceback": [
      "\u001b[0;31m---------------------------------------------------------------------------\u001b[0m",
      "\u001b[0;31mModuleNotFoundError\u001b[0m                       Traceback (most recent call last)",
      "\u001b[0;32m<ipython-input-24-4b5c11e7e507>\u001b[0m in \u001b[0;36m<module>\u001b[0;34m()\u001b[0m\n\u001b[0;32m----> 1\u001b[0;31m \u001b[0;32mimport\u001b[0m \u001b[0mlxml\u001b[0m\u001b[0;34m.\u001b[0m\u001b[0metree\u001b[0m \u001b[0;32mas\u001b[0m \u001b[0met\u001b[0m \u001b[0;31m# As let's you rename things.\u001b[0m\u001b[0;34m\u001b[0m\u001b[0m\n\u001b[0m\u001b[1;32m      2\u001b[0m \u001b[0;32mimport\u001b[0m \u001b[0mos\u001b[0m\u001b[0;34m\u001b[0m\u001b[0m\n\u001b[1;32m      3\u001b[0m \u001b[0;34m\u001b[0m\u001b[0m\n\u001b[1;32m      4\u001b[0m \u001b[0;32mwith\u001b[0m \u001b[0mopen\u001b[0m\u001b[0;34m(\u001b[0m\u001b[0;34m'data/1712/01/01/DDD_ddd_010725137_mpeg21/didl.xml'\u001b[0m\u001b[0;34m)\u001b[0m \u001b[0;32mas\u001b[0m \u001b[0mfh\u001b[0m\u001b[0;34m:\u001b[0m\u001b[0;34m\u001b[0m\u001b[0m\n\u001b[1;32m      5\u001b[0m     \u001b[0mdata\u001b[0m \u001b[0;34m=\u001b[0m \u001b[0met\u001b[0m\u001b[0;34m.\u001b[0m\u001b[0miterparse\u001b[0m\u001b[0;34m(\u001b[0m\u001b[0mfh\u001b[0m\u001b[0;34m,\u001b[0m \u001b[0mrecover\u001b[0m\u001b[0;34m=\u001b[0m\u001b[0;32mTrue\u001b[0m\u001b[0;34m)\u001b[0m\u001b[0;34m\u001b[0m\u001b[0m\n",
      "\u001b[0;31mModuleNotFoundError\u001b[0m: No module named 'lxml'"
     ]
    }
   ],
   "source": [
    "import lxml.etree as et # As let's you rename things.\n",
    "import os\n",
    "\n",
    "with open('data/1712/01/01/DDD_ddd_010725137_mpeg21/didl.xml') as fh:\n",
    "    data = et.iterparse(fh, recover=True)\n",
    "    for i in data:\n",
    "        item = i[1]\n",
    "        if (item.tag.endswith('issued')):\n",
    "            issued = item.text\n",
    "        if (item.tag.endswith('date')):\n",
    "            date = item.text\n",
    "print(date, issued)"
   ]
  },
  {
   "cell_type": "code",
   "execution_count": null,
   "metadata": {},
   "outputs": [],
   "source": [
    "# And now let's load all the didl files into a list\n",
    "\n",
    "#\n",
    "# ? \n",
    "# We've seen the following code before, if we used two parameters, we could re-use the function,\n",
    "# can you re-write the function so it can be used here?\n",
    "\n",
    "def traverse_dir(path):\n",
    "    files_avail = []\n",
    "    for files in os.walk(path):\n",
    "        for list_file in files:\n",
    "            if type(list_file) == type([]):\n",
    "                for f in list_file:\n",
    "                    if f.endswith('didl.xml'):\n",
    "                        files_avail.append(files[0] + os.sep + f)\n",
    "    return files_avail\n",
    "\n",
    "all_didl = []\n",
    "parser = et.XMLParser(recover=True) \n",
    "\n",
    "files_avail = traverse_dir('data/')\n",
    "for filename in files_avail:\n",
    "    with open(filename) as fh:\n",
    "        data = et.parse(fh, parser=parser)\n",
    "        all_didl.append(data)\n",
    "\n",
    "newspaper_info = {}\n",
    "for didl in all_didl:\n",
    "    pages = []\n",
    "    for item in didl.iter():\n",
    "        if item.tag.endswith(\"title\"):\n",
    "            title = item.text\n",
    "        if item.tag.endswith(\"date\"):\n",
    "            date = item.text\n",
    "        if item.tag.endswith(\"nativePageNumber\"):\n",
    "            pages.append(item.text)\n",
    "    print(title, date, pages)"
   ]
  },
  {
   "cell_type": "code",
   "execution_count": null,
   "metadata": {},
   "outputs": [],
   "source": []
  }
 ],
 "metadata": {
  "kernelspec": {
   "display_name": "Python 3",
   "language": "python",
   "name": "python3"
  }
 },
 "nbformat": 4,
 "nbformat_minor": 2
}
